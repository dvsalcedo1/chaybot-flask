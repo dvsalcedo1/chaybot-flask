{
 "cells": [
  {
   "cell_type": "code",
   "execution_count": 31,
   "metadata": {},
   "outputs": [
    {
     "data": {
      "text/plain": [
       "{'ruleCode': 'Url-06',\n",
       " 'ruleResult': 'FAIL',\n",
       " 'resultDesc': 'URLs should not begin with a number'}"
      ]
     },
     "execution_count": 31,
     "metadata": {},
     "output_type": "execute_result"
    }
   ],
   "source": [
    "def url_06(text,part):\n",
    "    \"\"\"\n",
    "    URLs should not begin with a number\n",
    "\n",
    "    Inputs needed: body\n",
    "    \"\"\"\n",
    "    req = text[part]\n",
    "    res = { 'ruleCode': 'Url-06', 'ruleResult': '', 'resultDesc': '' }\n",
    "\n",
    "    url = req.split(\"/\")[-2]\n",
    "    res['ruleResult'] = 'PASS'\n",
    "    if url.split(\"-\")[0].isdigit():\n",
    "        res['ruleResult'] = 'FAIL'\n",
    "        res['resultDesc'] = 'URLs should not begin with a number'\n",
    "\n",
    "    return res\n",
    "\n",
    "url_06({'url': 'rappler.com/philippines/50-there-are-only-5-words-here/'},'url')"
   ]
  },
  {
   "cell_type": "code",
   "execution_count": 29,
   "metadata": {},
   "outputs": [
    {
     "data": {
      "text/plain": [
       "False"
      ]
     },
     "execution_count": 29,
     "metadata": {},
     "output_type": "execute_result"
    }
   ],
   "source": [
    "\"5a\".isdigit()"
   ]
  },
  {
   "cell_type": "code",
   "execution_count": 26,
   "metadata": {},
   "outputs": [
    {
     "data": {
      "text/plain": [
       "{'ruleCode': 'Url-04',\n",
       " 'ruleResult': 'FAIL',\n",
       " 'resultDesc': 'URLs should not have punctuations'}"
      ]
     },
     "execution_count": 26,
     "metadata": {},
     "output_type": "execute_result"
    }
   ],
   "source": [
    "def url_04(text,part):\n",
    "    \"\"\"\n",
    "    URLs should not have punctuations\n",
    "\n",
    "    Inputs needed: body\n",
    "    \"\"\"\n",
    "    req = text[part]\n",
    "    res = { 'ruleCode': 'Url-04', 'ruleResult': '', 'resultDesc': '' }\n",
    "\n",
    "    url = req.split(\"/\")[-2]\n",
    "    res['ruleResult'] = 'PASS'\n",
    "    for i in url.split(\"-\"):\n",
    "        if not i.isalnum():\n",
    "            res['ruleResult'] = 'FAIL'\n",
    "            res['resultDesc'] = 'URLs should not have punctuations'\n",
    "\n",
    "    return res\n",
    "\n",
    "url_04({'url': 'rappler.com/philippines/there-are-only-5-words-here/'},'url')"
   ]
  },
  {
   "cell_type": "code",
   "execution_count": 24,
   "metadata": {},
   "outputs": [
    {
     "data": {
      "text/plain": [
       "True"
      ]
     },
     "execution_count": 24,
     "metadata": {},
     "output_type": "execute_result"
    }
   ],
   "source": [
    "\"5rt\".isalnum()"
   ]
  },
  {
   "cell_type": "code",
   "execution_count": 14,
   "metadata": {},
   "outputs": [
    {
     "data": {
      "text/plain": [
       "{'ruleCode': 'Url-01', 'ruleResult': 'PASS', 'resultDesc': ''}"
      ]
     },
     "execution_count": 14,
     "metadata": {},
     "output_type": "execute_result"
    }
   ],
   "source": [
    "def url_01(text,part):\n",
    "    \"\"\"\n",
    "    URLs should have 11 words max\n",
    "\n",
    "    Inputs needed: body\n",
    "    \"\"\"\n",
    "    req = text[part]\n",
    "    res = { 'ruleCode': 'Url-01', 'ruleResult': '', 'resultDesc': '' }\n",
    "\n",
    "    url = req.split(\"/\")[-2]\n",
    "    res['ruleResult'] = 'PASS'\n",
    "    if len(url.split(\"-\")) > 11:\n",
    "        res['ruleResult'] = 'FAIL'\n",
    "        res['resultDesc'] = 'URLs should have 11 words max'\n",
    "\n",
    "    return res\n",
    "\n",
    "url_01({'url': 'rappler.com/philippines/there-are-only-5-words-here/'},'url')"
   ]
  },
  {
   "cell_type": "code",
   "execution_count": 10,
   "metadata": {},
   "outputs": [
    {
     "data": {
      "text/plain": [
       "'John Doe/Rappler.com'"
      ]
     },
     "execution_count": 10,
     "metadata": {},
     "output_type": "execute_result"
    }
   ],
   "source": [
    "def tagline_01(text,part):\n",
    "    \"\"\"\n",
    "    Taglines follow a specified format ( \"Name/Rappler.com\" OR \"with reports from Name/Rappler.com\")\n",
    "\n",
    "    Inputs needed: body\n",
    "    \"\"\"\n",
    "    req = text[part]\n",
    "    res = { 'ruleCode': 'Tagline-01', 'ruleResult': '', 'resultDesc': '' }\n",
    "\n",
    "    tagline = \"\"\n",
    "    res['ruleResult'] = 'PASS'\n",
    "    if (\"—\" in req):\n",
    "        tagline = req.split(\"—\")[-1][1:]\n",
    "    else:\n",
    "        res['resultDesc'] = 'There was no tagline detected' # return pass if there is no dateline\n",
    "\n",
    "    return tagline\n",
    "\n",
    "tagline_01({'body': \"Metro Manila, Philippines — Lorem ipsum — John Doe/Rappler.com\"},'body')    "
   ]
  },
  {
   "cell_type": "code",
   "execution_count": 7,
   "metadata": {},
   "outputs": [
    {
     "data": {
      "text/plain": [
       "{'ruleCode': 'Dateline-01',\n",
       " 'ruleResult': 'FAIL',\n",
       " 'resultDesc': 'Metro Manila dateline should use MANILA, PHILIPPINES'}"
      ]
     },
     "execution_count": 7,
     "metadata": {},
     "output_type": "execute_result"
    }
   ],
   "source": [
    "def dateline_03(text,part):\n",
    "    \"\"\"\n",
    "    Metro Manila dateline should use MANILA, PHILIPPINES\n",
    "\n",
    "    Inputs needed: body\n",
    "    \"\"\"\n",
    "    req = text[part]\n",
    "    res = { 'ruleCode': 'Dateline-03', 'ruleResult': '', 'resultDesc': '' }\n",
    "\n",
    "    dateline = \"\"\n",
    "    if \"—\" in req:\n",
    "        dateline = req.split(\"—\")[0][:-1]\n",
    "        if \"metro manila\" in dateline.lower():\n",
    "            res['ruleResult'] = 'FAIL'\n",
    "            res['resultDesc'] = 'Metro Manila dateline should use MANILA, PHILIPPINES'\n",
    "    else:\n",
    "        res['ruleResult'] = 'PASS' # return pass if there is no dateline\n",
    "\n",
    "    return res  \n",
    "\n",
    "dateline_03({'body': \"Metro Manila, Philippines — Lorem ipsum\"},'body')    "
   ]
  },
  {
   "cell_type": "code",
   "execution_count": 8,
   "metadata": {},
   "outputs": [
    {
     "name": "stdout",
     "output_type": "stream",
     "text": [
      "NN\n"
     ]
    },
    {
     "data": {
      "text/plain": [
       "{'ruleCode': 'Head-10', 'ruleResult': 'PASS', 'resultDesc': ''}"
      ]
     },
     "execution_count": 8,
     "metadata": {},
     "output_type": "execute_result"
    }
   ],
   "source": [
    "from nltk.tag import pos_tag\n",
    "def head_10(text,part):\n",
    "    \"\"\"\n",
    "    Head-10\n",
    "\n",
    "    Inputs needed: headline\n",
    "    \"\"\"\n",
    "    req = text[part]\n",
    "    res = { 'ruleCode': 'Head-10', 'ruleResult': '', 'resultDesc': '' }\n",
    "\n",
    "    wordlist = req.split(\" \")\n",
    "    colons = [i for i,n in enumerate(wordlist) if \":\" in n]\n",
    "    hyphens = [i for i,n in enumerate(wordlist) if \"-\" in n]\n",
    "    checkNames = pos_tag([wordlist[j+1] for j in colons+hyphens])\n",
    "\n",
    "    res['ruleResult'] = 'PASS'\n",
    "    for i in checkNames:\n",
    "        if i[1] == 'NNP':\n",
    "            res['ruleResult'] = 'FAIL'\n",
    "            res['resultDesc'] = 'Use an en-dash and not a hyphen or double quote when indicating a source'\n",
    "\n",
    "    return res\n",
    "\n",
    "head_10({'headline': \"TEST ONLY Marcos Jr. wins presidency (DO NOT PUBLISH): Roderick\"},'headline')"
   ]
  },
  {
   "cell_type": "code",
   "execution_count": 22,
   "metadata": {},
   "outputs": [
    {
     "data": {
      "text/plain": [
       "{'ruleCode': 'Head-11', 'ruleResult': 'PASS', 'resultDesc': ''}"
      ]
     },
     "execution_count": 22,
     "metadata": {},
     "output_type": "execute_result"
    }
   ],
   "source": [
    "def head_11(text,part):\n",
    "    \"\"\"\n",
    "    Head-11\n",
    "\n",
    "    Inputs needed: headline\n",
    "    \"\"\"\n",
    "    req = text[part]\n",
    "    res = { 'ruleCode': 'Head-11', 'ruleResult': '', 'resultDesc': '' }\n",
    "\n",
    "    wordlist = req.lower().split(\" \")\n",
    "    numbers = ['one','two','three','four','five','six','seven','eight','nine','ten',\n",
    "               'eleven','twelve','thirteen','fourteen','fifteen','sixteen','seventeen','eighteen','nineteen',\n",
    "               'twenty','thirty','fourty','fifty','sixty','seventy','eighty','ninety']\n",
    "    \n",
    "    res['ruleResult'] = 'PASS'\n",
    "    for i in wordlist:\n",
    "        if i in numbers:\n",
    "            res['ruleResult'] = 'FAIL'\n",
    "            res['resultDesc'] = 'Do not spell out numbers in the title. Use numerical digits instead.'\n",
    "        if i == '0':\n",
    "            res['ruleResult'] = 'FAIL'\n",
    "            res['resultDesc'] += ' Spell out \\\"zero\\\" instead of using \\\"0\\\"'                        \n",
    "\n",
    "    return res\n",
    "\n",
    "head_11({'headline': \"TEST ONLY Marcos Jr. wins presidency (DO NOT PUBLISH): zero Roderick\"},'headline')"
   ]
  },
  {
   "cell_type": "code",
   "execution_count": 29,
   "metadata": {},
   "outputs": [
    {
     "data": {
      "text/plain": [
       "{'ruleCode': 'Head-12',\n",
       " 'ruleResult': 'FAIL',\n",
       " 'resultDesc': 'Capitalize the next word after every colon'}"
      ]
     },
     "execution_count": 29,
     "metadata": {},
     "output_type": "execute_result"
    }
   ],
   "source": [
    "def head_12(text,part):\n",
    "    \"\"\"\n",
    "    Head-12\n",
    "\n",
    "    Inputs needed: headline\n",
    "    \"\"\"\n",
    "    req = text[part]\n",
    "    res = { 'ruleCode': 'Head-12', 'ruleResult': '', 'resultDesc': '' }\n",
    "\n",
    "    wordlist = req.split(\" \")\n",
    "    colons = [i for i,n in enumerate(wordlist) if \":\" in n]\n",
    "    checkCapitalization = [wordlist[j+1] for j in colons]\n",
    "\n",
    "    res['ruleResult'] = 'PASS'\n",
    "    for i in checkCapitalization:\n",
    "        if i[0].isalpha() and i[0].islower():\n",
    "            res['ruleResult'] = 'FAIL'\n",
    "            res['resultDesc'] = 'Capitalize the next word after every colon'\n",
    "\n",
    "    return res\n",
    "\n",
    "head_12({'headline': \"TEST ONLY Marcos Jr. wins presidency (DO NOT PUBLISH): roderick\"},'headline')"
   ]
  }
 ],
 "metadata": {
  "kernelspec": {
   "display_name": "venv",
   "language": "python",
   "name": "python3"
  },
  "language_info": {
   "codemirror_mode": {
    "name": "ipython",
    "version": 3
   },
   "file_extension": ".py",
   "mimetype": "text/x-python",
   "name": "python",
   "nbconvert_exporter": "python",
   "pygments_lexer": "ipython3",
   "version": "3.11.2"
  }
 },
 "nbformat": 4,
 "nbformat_minor": 2
}
